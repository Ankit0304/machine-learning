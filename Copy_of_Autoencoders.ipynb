{
  "nbformat": 4,
  "nbformat_minor": 0,
  "metadata": {
    "colab": {
      "provenance": [],
      "include_colab_link": true
    },
    "kernelspec": {
      "name": "python3",
      "display_name": "Python 3"
    }
  },
  "cells": [
    {
      "cell_type": "markdown",
      "metadata": {
        "id": "view-in-github",
        "colab_type": "text"
      },
      "source": [
        "<a href=\"https://colab.research.google.com/github/Ankit0304/machine-learning/blob/main/Copy_of_Autoencoders.ipynb\" target=\"_parent\"><img src=\"https://colab.research.google.com/assets/colab-badge.svg\" alt=\"Open In Colab\"/></a>"
      ]
    },
    {
      "cell_type": "code",
      "metadata": {
        "id": "WQl8TSiHSOCU"
      },
      "source": [
        "from keras.layers import Input, Dense\n",
        "from keras.models import Model\n",
        "\n",
        "# this is the size of our encoded representations\n",
        "encoding_dim = 128  # 32 floats -> compression of factor 24.5, assuming the input is 784 floats\n",
        "\n",
        "# this is our input placeholder\n",
        "input_img = Input(shape=(784,))\n",
        "# \"encoded\" is the encoded representation of the input\n",
        "encoded = Dense(encoding_dim, activation='relu')(input_img)\n",
        "# \"decoded\" is the lossy reconstruction of the input\n",
        "decoded = Dense(784, activation='sigmoid')(encoded)#sigmoid-relu\n",
        "\n",
        "# this model maps an input to its reconstruction\n",
        "autoencoder = Model(input_img, decoded)"
      ],
      "execution_count": 4,
      "outputs": []
    },
    {
      "cell_type": "code",
      "metadata": {
        "id": "Gq173u9YSTvU"
      },
      "source": [
        "# this model maps an input to its encoded representation\n",
        "encoder = Model(input_img, encoded)"
      ],
      "execution_count": 5,
      "outputs": []
    },
    {
      "cell_type": "code",
      "metadata": {
        "id": "q3K4BB0VSbfD"
      },
      "source": [
        "# create a placeholder for an encoded (32-dimensional) input\n",
        "encoded_input = Input(shape=(encoding_dim,))\n",
        "# retrieve the last layer of the autoencoder model\n",
        "decoder_layer = autoencoder.layers[-1]\n",
        "# create the decoder model\n",
        "decoder = Model(encoded_input, decoder_layer(encoded_input))"
      ],
      "execution_count": 6,
      "outputs": []
    },
    {
      "cell_type": "code",
      "metadata": {
        "id": "txJYhPm1SfLq"
      },
      "source": [
        "autoencoder.compile(optimizer='adam', loss='binary_crossentropy')"
      ],
      "execution_count": 15,
      "outputs": []
    },
    {
      "cell_type": "code",
      "metadata": {
        "id": "ox4PzfObSiQd"
      },
      "source": [
        "from keras.datasets import mnist\n",
        "import numpy as np\n",
        "(x_train, _), (x_test, _) = mnist.load_data()"
      ],
      "execution_count": 16,
      "outputs": []
    },
    {
      "cell_type": "code",
      "metadata": {
        "id": "5riYiwmoSlDz",
        "colab": {
          "base_uri": "https://localhost:8080/"
        },
        "outputId": "2eda8d4f-495a-4a7b-95ad-333d1e61e82b"
      },
      "source": [
        "x_train = x_train.astype('float32') / 255.\n",
        "x_test = x_test.astype('float32') / 255.\n",
        "x_train = x_train.reshape((len(x_train), np.prod(x_train.shape[1:])))\n",
        "x_test = x_test.reshape((len(x_test), np.prod(x_test.shape[1:])))\n",
        "print (x_train.shape)\n",
        "print (x_test.shape)"
      ],
      "execution_count": 17,
      "outputs": [
        {
          "output_type": "stream",
          "name": "stdout",
          "text": [
            "(60000, 784)\n",
            "(10000, 784)\n"
          ]
        }
      ]
    },
    {
      "cell_type": "code",
      "metadata": {
        "id": "zzkP2dNISsfq",
        "colab": {
          "base_uri": "https://localhost:8080/"
        },
        "outputId": "5094cac8-ebd2-4ad2-95bb-981a33030784"
      },
      "source": [
        "autoencoder.fit(x_train, x_train,\n",
        "                epochs=100,\n",
        "                batch_size=256,\n",
        "                shuffle=True,\n",
        "                validation_data=(x_test, x_test))"
      ],
      "execution_count": 19,
      "outputs": [
        {
          "output_type": "stream",
          "name": "stdout",
          "text": [
            "Epoch 1/100\n",
            "235/235 [==============================] - 4s 15ms/step - loss: 0.0753 - val_loss: 0.0733\n",
            "Epoch 2/100\n",
            "235/235 [==============================] - 5s 20ms/step - loss: 0.0730 - val_loss: 0.0717\n",
            "Epoch 3/100\n",
            "235/235 [==============================] - 4s 15ms/step - loss: 0.0715 - val_loss: 0.0704\n",
            "Epoch 4/100\n",
            "235/235 [==============================] - 3s 15ms/step - loss: 0.0705 - val_loss: 0.0696\n",
            "Epoch 5/100\n",
            "235/235 [==============================] - 4s 19ms/step - loss: 0.0697 - val_loss: 0.0689\n",
            "Epoch 6/100\n",
            "235/235 [==============================] - 4s 15ms/step - loss: 0.0691 - val_loss: 0.0685\n",
            "Epoch 7/100\n",
            "235/235 [==============================] - 3s 15ms/step - loss: 0.0687 - val_loss: 0.0681\n",
            "Epoch 8/100\n",
            "235/235 [==============================] - 4s 17ms/step - loss: 0.0683 - val_loss: 0.0677\n",
            "Epoch 9/100\n",
            "235/235 [==============================] - 4s 18ms/step - loss: 0.0680 - val_loss: 0.0675\n",
            "Epoch 10/100\n",
            "235/235 [==============================] - 3s 15ms/step - loss: 0.0677 - val_loss: 0.0672\n",
            "Epoch 11/100\n",
            "235/235 [==============================] - 4s 15ms/step - loss: 0.0675 - val_loss: 0.0671\n",
            "Epoch 12/100\n",
            "235/235 [==============================] - 5s 20ms/step - loss: 0.0673 - val_loss: 0.0669\n",
            "Epoch 13/100\n",
            "235/235 [==============================] - 4s 15ms/step - loss: 0.0671 - val_loss: 0.0667\n",
            "Epoch 14/100\n",
            "235/235 [==============================] - 3s 15ms/step - loss: 0.0670 - val_loss: 0.0666\n",
            "Epoch 15/100\n",
            "235/235 [==============================] - 4s 19ms/step - loss: 0.0668 - val_loss: 0.0665\n",
            "Epoch 16/100\n",
            "235/235 [==============================] - 4s 16ms/step - loss: 0.0667 - val_loss: 0.0664\n",
            "Epoch 17/100\n",
            "235/235 [==============================] - 4s 15ms/step - loss: 0.0666 - val_loss: 0.0664\n",
            "Epoch 18/100\n",
            "235/235 [==============================] - 4s 15ms/step - loss: 0.0665 - val_loss: 0.0663\n",
            "Epoch 19/100\n",
            "235/235 [==============================] - 5s 19ms/step - loss: 0.0664 - val_loss: 0.0663\n",
            "Epoch 20/100\n",
            "235/235 [==============================] - 4s 15ms/step - loss: 0.0664 - val_loss: 0.0661\n",
            "Epoch 21/100\n",
            "235/235 [==============================] - 4s 15ms/step - loss: 0.0663 - val_loss: 0.0661\n",
            "Epoch 22/100\n",
            "235/235 [==============================] - 5s 20ms/step - loss: 0.0662 - val_loss: 0.0660\n",
            "Epoch 23/100\n",
            "235/235 [==============================] - 6s 27ms/step - loss: 0.0662 - val_loss: 0.0660\n",
            "Epoch 24/100\n",
            "235/235 [==============================] - 7s 31ms/step - loss: 0.0661 - val_loss: 0.0659\n",
            "Epoch 25/100\n",
            "235/235 [==============================] - 5s 22ms/step - loss: 0.0661 - val_loss: 0.0659\n",
            "Epoch 26/100\n",
            "235/235 [==============================] - 4s 15ms/step - loss: 0.0660 - val_loss: 0.0658\n",
            "Epoch 27/100\n",
            "235/235 [==============================] - 5s 20ms/step - loss: 0.0660 - val_loss: 0.0658\n",
            "Epoch 28/100\n",
            "235/235 [==============================] - 4s 15ms/step - loss: 0.0660 - val_loss: 0.0658\n",
            "Epoch 29/100\n",
            "235/235 [==============================] - 5s 19ms/step - loss: 0.0659 - val_loss: 0.0657\n",
            "Epoch 30/100\n",
            "235/235 [==============================] - 6s 25ms/step - loss: 0.0659 - val_loss: 0.0658\n",
            "Epoch 31/100\n",
            "235/235 [==============================] - 4s 18ms/step - loss: 0.0659 - val_loss: 0.0658\n",
            "Epoch 32/100\n",
            "235/235 [==============================] - 4s 15ms/step - loss: 0.0659 - val_loss: 0.0657\n",
            "Epoch 33/100\n",
            "235/235 [==============================] - 5s 20ms/step - loss: 0.0658 - val_loss: 0.0657\n",
            "Epoch 34/100\n",
            "235/235 [==============================] - 4s 15ms/step - loss: 0.0658 - val_loss: 0.0656\n",
            "Epoch 35/100\n",
            "235/235 [==============================] - 3s 14ms/step - loss: 0.0658 - val_loss: 0.0656\n",
            "Epoch 36/100\n",
            "235/235 [==============================] - 4s 18ms/step - loss: 0.0658 - val_loss: 0.0656\n",
            "Epoch 37/100\n",
            "235/235 [==============================] - 4s 17ms/step - loss: 0.0657 - val_loss: 0.0656\n",
            "Epoch 38/100\n",
            "235/235 [==============================] - 3s 15ms/step - loss: 0.0657 - val_loss: 0.0656\n",
            "Epoch 39/100\n",
            "235/235 [==============================] - 4s 15ms/step - loss: 0.0657 - val_loss: 0.0656\n",
            "Epoch 40/100\n",
            "235/235 [==============================] - 5s 20ms/step - loss: 0.0657 - val_loss: 0.0656\n",
            "Epoch 41/100\n",
            "235/235 [==============================] - 3s 15ms/step - loss: 0.0657 - val_loss: 0.0655\n",
            "Epoch 42/100\n",
            "235/235 [==============================] - 3s 15ms/step - loss: 0.0657 - val_loss: 0.0655\n",
            "Epoch 43/100\n",
            "235/235 [==============================] - 5s 20ms/step - loss: 0.0657 - val_loss: 0.0655\n",
            "Epoch 44/100\n",
            "235/235 [==============================] - 3s 15ms/step - loss: 0.0656 - val_loss: 0.0655\n",
            "Epoch 45/100\n",
            "235/235 [==============================] - 4s 15ms/step - loss: 0.0656 - val_loss: 0.0655\n",
            "Epoch 46/100\n",
            "235/235 [==============================] - 4s 17ms/step - loss: 0.0656 - val_loss: 0.0655\n",
            "Epoch 47/100\n",
            "235/235 [==============================] - 4s 18ms/step - loss: 0.0656 - val_loss: 0.0655\n",
            "Epoch 48/100\n",
            "235/235 [==============================] - 3s 15ms/step - loss: 0.0656 - val_loss: 0.0655\n",
            "Epoch 49/100\n",
            "235/235 [==============================] - 4s 15ms/step - loss: 0.0656 - val_loss: 0.0655\n",
            "Epoch 50/100\n",
            "235/235 [==============================] - 5s 20ms/step - loss: 0.0656 - val_loss: 0.0655\n",
            "Epoch 51/100\n",
            "235/235 [==============================] - 3s 15ms/step - loss: 0.0656 - val_loss: 0.0655\n",
            "Epoch 52/100\n",
            "235/235 [==============================] - 4s 17ms/step - loss: 0.0656 - val_loss: 0.0655\n",
            "Epoch 53/100\n",
            "235/235 [==============================] - 5s 20ms/step - loss: 0.0656 - val_loss: 0.0654\n",
            "Epoch 54/100\n",
            "235/235 [==============================] - 4s 15ms/step - loss: 0.0655 - val_loss: 0.0654\n",
            "Epoch 55/100\n",
            "235/235 [==============================] - 4s 15ms/step - loss: 0.0655 - val_loss: 0.0654\n",
            "Epoch 56/100\n",
            "235/235 [==============================] - 4s 18ms/step - loss: 0.0655 - val_loss: 0.0655\n",
            "Epoch 57/100\n",
            "235/235 [==============================] - 4s 17ms/step - loss: 0.0655 - val_loss: 0.0654\n",
            "Epoch 58/100\n",
            "235/235 [==============================] - 4s 17ms/step - loss: 0.0655 - val_loss: 0.0655\n",
            "Epoch 59/100\n",
            "235/235 [==============================] - 4s 15ms/step - loss: 0.0655 - val_loss: 0.0654\n",
            "Epoch 60/100\n",
            "235/235 [==============================] - 5s 19ms/step - loss: 0.0655 - val_loss: 0.0654\n",
            "Epoch 61/100\n",
            "235/235 [==============================] - 4s 15ms/step - loss: 0.0655 - val_loss: 0.0654\n",
            "Epoch 62/100\n",
            "235/235 [==============================] - 3s 15ms/step - loss: 0.0655 - val_loss: 0.0654\n",
            "Epoch 63/100\n",
            "235/235 [==============================] - 5s 19ms/step - loss: 0.0655 - val_loss: 0.0654\n",
            "Epoch 64/100\n",
            "235/235 [==============================] - 4s 15ms/step - loss: 0.0655 - val_loss: 0.0654\n",
            "Epoch 65/100\n",
            "235/235 [==============================] - 4s 15ms/step - loss: 0.0655 - val_loss: 0.0654\n",
            "Epoch 66/100\n",
            "235/235 [==============================] - 4s 17ms/step - loss: 0.0655 - val_loss: 0.0654\n",
            "Epoch 67/100\n",
            "235/235 [==============================] - 4s 18ms/step - loss: 0.0655 - val_loss: 0.0654\n",
            "Epoch 68/100\n",
            "235/235 [==============================] - 4s 15ms/step - loss: 0.0655 - val_loss: 0.0654\n",
            "Epoch 69/100\n",
            "235/235 [==============================] - 3s 15ms/step - loss: 0.0655 - val_loss: 0.0653\n",
            "Epoch 70/100\n",
            "235/235 [==============================] - 5s 20ms/step - loss: 0.0655 - val_loss: 0.0654\n",
            "Epoch 71/100\n",
            "235/235 [==============================] - 5s 23ms/step - loss: 0.0654 - val_loss: 0.0654\n",
            "Epoch 72/100\n",
            "235/235 [==============================] - 4s 16ms/step - loss: 0.0654 - val_loss: 0.0654\n",
            "Epoch 73/100\n",
            "235/235 [==============================] - 4s 18ms/step - loss: 0.0654 - val_loss: 0.0654\n",
            "Epoch 74/100\n",
            "235/235 [==============================] - 4s 15ms/step - loss: 0.0654 - val_loss: 0.0654\n",
            "Epoch 75/100\n",
            "235/235 [==============================] - 3s 15ms/step - loss: 0.0654 - val_loss: 0.0654\n",
            "Epoch 76/100\n",
            "235/235 [==============================] - 5s 20ms/step - loss: 0.0654 - val_loss: 0.0654\n",
            "Epoch 77/100\n",
            "235/235 [==============================] - 4s 15ms/step - loss: 0.0654 - val_loss: 0.0654\n",
            "Epoch 78/100\n",
            "235/235 [==============================] - 4s 15ms/step - loss: 0.0654 - val_loss: 0.0653\n",
            "Epoch 79/100\n",
            "235/235 [==============================] - 5s 20ms/step - loss: 0.0654 - val_loss: 0.0654\n",
            "Epoch 80/100\n",
            "235/235 [==============================] - 4s 16ms/step - loss: 0.0654 - val_loss: 0.0654\n",
            "Epoch 81/100\n",
            "235/235 [==============================] - 3s 15ms/step - loss: 0.0654 - val_loss: 0.0654\n",
            "Epoch 82/100\n",
            "235/235 [==============================] - 4s 15ms/step - loss: 0.0654 - val_loss: 0.0653\n",
            "Epoch 83/100\n",
            "235/235 [==============================] - 5s 19ms/step - loss: 0.0654 - val_loss: 0.0653\n",
            "Epoch 84/100\n",
            "235/235 [==============================] - 4s 17ms/step - loss: 0.0654 - val_loss: 0.0654\n",
            "Epoch 85/100\n",
            "235/235 [==============================] - 5s 20ms/step - loss: 0.0654 - val_loss: 0.0653\n",
            "Epoch 86/100\n",
            "235/235 [==============================] - 5s 20ms/step - loss: 0.0654 - val_loss: 0.0653\n",
            "Epoch 87/100\n",
            "235/235 [==============================] - 4s 15ms/step - loss: 0.0654 - val_loss: 0.0654\n",
            "Epoch 88/100\n",
            "235/235 [==============================] - 4s 15ms/step - loss: 0.0654 - val_loss: 0.0654\n",
            "Epoch 89/100\n",
            "235/235 [==============================] - 5s 20ms/step - loss: 0.0654 - val_loss: 0.0653\n",
            "Epoch 90/100\n",
            "235/235 [==============================] - 4s 15ms/step - loss: 0.0654 - val_loss: 0.0653\n",
            "Epoch 91/100\n",
            "235/235 [==============================] - 4s 15ms/step - loss: 0.0654 - val_loss: 0.0653\n",
            "Epoch 92/100\n",
            "235/235 [==============================] - 5s 23ms/step - loss: 0.0654 - val_loss: 0.0653\n",
            "Epoch 93/100\n",
            "235/235 [==============================] - 4s 15ms/step - loss: 0.0654 - val_loss: 0.0653\n",
            "Epoch 94/100\n",
            "235/235 [==============================] - 4s 15ms/step - loss: 0.0654 - val_loss: 0.0653\n",
            "Epoch 95/100\n",
            "235/235 [==============================] - 4s 17ms/step - loss: 0.0654 - val_loss: 0.0653\n",
            "Epoch 96/100\n",
            "235/235 [==============================] - 4s 17ms/step - loss: 0.0654 - val_loss: 0.0653\n",
            "Epoch 97/100\n",
            "235/235 [==============================] - 4s 15ms/step - loss: 0.0654 - val_loss: 0.0653\n",
            "Epoch 98/100\n",
            "235/235 [==============================] - 4s 15ms/step - loss: 0.0654 - val_loss: 0.0653\n",
            "Epoch 99/100\n",
            "235/235 [==============================] - 5s 21ms/step - loss: 0.0654 - val_loss: 0.0653\n",
            "Epoch 100/100\n",
            "235/235 [==============================] - 4s 16ms/step - loss: 0.0654 - val_loss: 0.0653\n"
          ]
        },
        {
          "output_type": "execute_result",
          "data": {
            "text/plain": [
              "<keras.src.callbacks.History at 0x7aff81416e60>"
            ]
          },
          "metadata": {},
          "execution_count": 19
        }
      ]
    },
    {
      "cell_type": "code",
      "metadata": {
        "id": "OUr7fRVwSwHY",
        "colab": {
          "base_uri": "https://localhost:8080/"
        },
        "outputId": "51d3af37-fe12-4525-da89-ed72eb3cbbcf"
      },
      "source": [
        "# encode and decode some digits\n",
        "# note that we take them from the *test* set\n",
        "encoded_imgs = encoder.predict(x_test)\n",
        "decoded_imgs = decoder.predict(encoded_imgs)"
      ],
      "execution_count": 20,
      "outputs": [
        {
          "output_type": "stream",
          "name": "stdout",
          "text": [
            "313/313 [==============================] - 1s 2ms/step\n",
            "313/313 [==============================] - 1s 2ms/step\n"
          ]
        }
      ]
    },
    {
      "cell_type": "code",
      "metadata": {
        "id": "HqkoJw8xSzH1",
        "colab": {
          "base_uri": "https://localhost:8080/",
          "height": 317
        },
        "outputId": "2347c96b-0260-464a-bcbe-8b0c9ab7f92c"
      },
      "source": [
        "# use Matplotlib (don't ask)\n",
        "import matplotlib.pyplot as plt\n",
        "\n",
        "n = 10  # how many digits we will display\n",
        "plt.figure(figsize=(20, 4))\n",
        "for i in range(n):\n",
        "    # display original\n",
        "    ax = plt.subplot(2, n, i + 1)\n",
        "    plt.imshow(x_test[i].reshape(28, 28))\n",
        "    plt.gray()\n",
        "    ax.get_xaxis().set_visible(False)\n",
        "    ax.get_yaxis().set_visible(False)\n",
        "\n",
        "    # display reconstruction\n",
        "    ax = plt.subplot(2, n, i + 1 + n)\n",
        "    plt.imshow(decoded_imgs[i].reshape(28, 28))\n",
        "    plt.gray()\n",
        "    ax.get_xaxis().set_visible(False)\n",
        "    ax.get_yaxis().set_visible(False)\n",
        "plt.show()"
      ],
      "execution_count": 21,
      "outputs": [
        {
          "output_type": "display_data",
          "data": {
            "text/plain": [
              "<Figure size 2000x400 with 20 Axes>"
            ],
            "image/png": "[encoded data removed]"
          },
          "metadata": {}
        }
      ]
    },
    {
      "cell_type": "code",
      "source": [
        "from keras.layers import Input, Dense\n",
        "from keras.models import Model\n",
        "\n",
        "# Define the size of the encoded representation\n",
        "encoding_dim = 128  # 32 floats -> compression of factor 24.5, assuming the input is 784 floats\n",
        "\n",
        "# Input placeholder\n",
        "input_img = Input(shape=(784,))\n",
        "\n",
        "# Encoding layers\n",
        "encoded = Dense(128, activation='relu')(input_img)\n",
        "encoded = Dense(64, activation='relu')(encoded)\n",
        "encoded = Dense(encoding_dim, activation='relu')(encoded)\n",
        "\n",
        "# Decoding layers\n",
        "decoded = Dense(64, activation='relu')(encoded)\n",
        "decoded = Dense(128, activation='relu')(decoded)\n",
        "decoded = Dense(784, activation='sigmoid')(decoded)\n",
        "\n",
        "# Autoencoder model\n",
        "autoencoder = Model(input_img, decoded)\n",
        "\n",
        "# Encoder model\n",
        "encoder = Model(input_img, encoded)\n",
        "\n",
        "# Decoder model\n",
        "encoded_input = Input(shape=(encoding_dim,))\n",
        "decoder_layer1 = autoencoder.layers[-3]\n",
        "decoder_layer2 = autoencoder.layers[-2]\n",
        "decoder_layer3 = autoencoder.layers[-1]\n",
        "decoder = Model(encoded_input, decoder_layer3(decoder_layer2(decoder_layer1(encoded_input))))\n"
      ],
      "metadata": {
        "id": "ODd0yFC1bl7l"
      },
      "execution_count": 22,
      "outputs": []
    },
    {
      "cell_type": "code",
      "source": [
        "# Compile the model\n",
        "autoencoder.compile(optimizer='adam', loss='binary_crossentropy')\n",
        "\n",
        "# Train the model\n",
        "autoencoder.fit(x_train, x_train,\n",
        "                epochs=75,\n",
        "                batch_size=256,\n",
        "                shuffle=True,\n",
        "                validation_data=(x_test, x_test))\n",
        "\n"
      ],
      "metadata": {
        "colab": {
          "base_uri": "https://localhost:8080/"
        },
        "id": "pedaPEaRcAic",
        "outputId": "d2f49970-f9fd-47cd-80b5-33a630a5f33b"
      },
      "execution_count": 23,
      "outputs": [
        {
          "output_type": "stream",
          "name": "stdout",
          "text": [
            "Epoch 1/75\n",
            "235/235 [==============================] - 6s 23ms/step - loss: 0.2434 - val_loss: 0.1603\n",
            "Epoch 2/75\n",
            "235/235 [==============================] - 6s 25ms/step - loss: 0.1417 - val_loss: 0.1277\n",
            "Epoch 3/75\n",
            "235/235 [==============================] - 9s 36ms/step - loss: 0.1239 - val_loss: 0.1173\n",
            "Epoch 4/75\n",
            "235/235 [==============================] - 4s 18ms/step - loss: 0.1155 - val_loss: 0.1110\n",
            "Epoch 5/75\n",
            "235/235 [==============================] - 4s 17ms/step - loss: 0.1096 - val_loss: 0.1059\n",
            "Epoch 6/75\n",
            "235/235 [==============================] - 6s 24ms/step - loss: 0.1052 - val_loss: 0.1020\n",
            "Epoch 7/75\n",
            "235/235 [==============================] - 4s 17ms/step - loss: 0.1020 - val_loss: 0.1001\n",
            "Epoch 8/75\n",
            "235/235 [==============================] - 4s 17ms/step - loss: 0.0994 - val_loss: 0.0970\n",
            "Epoch 9/75\n",
            "235/235 [==============================] - 5s 22ms/step - loss: 0.0974 - val_loss: 0.0960\n",
            "Epoch 10/75\n",
            "235/235 [==============================] - 4s 18ms/step - loss: 0.0956 - val_loss: 0.0937\n",
            "Epoch 11/75\n",
            "235/235 [==============================] - 4s 18ms/step - loss: 0.0941 - val_loss: 0.0923\n",
            "Epoch 12/75\n",
            "235/235 [==============================] - 5s 20ms/step - loss: 0.0931 - val_loss: 0.0917\n",
            "Epoch 13/75\n",
            "235/235 [==============================] - 4s 17ms/step - loss: 0.0921 - val_loss: 0.0908\n",
            "Epoch 14/75\n",
            "235/235 [==============================] - 4s 19ms/step - loss: 0.0911 - val_loss: 0.0899\n",
            "Epoch 15/75\n",
            "235/235 [==============================] - 5s 21ms/step - loss: 0.0903 - val_loss: 0.0888\n",
            "Epoch 16/75\n",
            "235/235 [==============================] - 4s 18ms/step - loss: 0.0896 - val_loss: 0.0892\n",
            "Epoch 17/75\n",
            "235/235 [==============================] - 5s 21ms/step - loss: 0.0889 - val_loss: 0.0877\n",
            "Epoch 18/75\n",
            "235/235 [==============================] - 4s 19ms/step - loss: 0.0883 - val_loss: 0.0875\n",
            "Epoch 19/75\n",
            "235/235 [==============================] - 4s 17ms/step - loss: 0.0878 - val_loss: 0.0869\n",
            "Epoch 20/75\n",
            "235/235 [==============================] - 5s 21ms/step - loss: 0.0871 - val_loss: 0.0863\n",
            "Epoch 21/75\n",
            "235/235 [==============================] - 4s 18ms/step - loss: 0.0866 - val_loss: 0.0864\n",
            "Epoch 22/75\n",
            "235/235 [==============================] - 4s 17ms/step - loss: 0.0861 - val_loss: 0.0855\n",
            "Epoch 23/75\n",
            "235/235 [==============================] - 5s 22ms/step - loss: 0.0857 - val_loss: 0.0847\n",
            "Epoch 24/75\n",
            "235/235 [==============================] - 4s 18ms/step - loss: 0.0852 - val_loss: 0.0842\n",
            "Epoch 25/75\n",
            "235/235 [==============================] - 4s 17ms/step - loss: 0.0849 - val_loss: 0.0842\n",
            "Epoch 26/75\n",
            "235/235 [==============================] - 5s 23ms/step - loss: 0.0845 - val_loss: 0.0835\n",
            "Epoch 27/75\n",
            "235/235 [==============================] - 5s 19ms/step - loss: 0.0841 - val_loss: 0.0837\n",
            "Epoch 28/75\n",
            "235/235 [==============================] - 4s 17ms/step - loss: 0.0837 - val_loss: 0.0832\n",
            "Epoch 29/75\n",
            "235/235 [==============================] - 5s 21ms/step - loss: 0.0834 - val_loss: 0.0824\n",
            "Epoch 30/75\n",
            "235/235 [==============================] - 4s 17ms/step - loss: 0.0831 - val_loss: 0.0825\n",
            "Epoch 31/75\n",
            "235/235 [==============================] - 4s 17ms/step - loss: 0.0828 - val_loss: 0.0820\n",
            "Epoch 32/75\n",
            "235/235 [==============================] - 5s 22ms/step - loss: 0.0825 - val_loss: 0.0819\n",
            "Epoch 33/75\n",
            "235/235 [==============================] - 5s 21ms/step - loss: 0.0822 - val_loss: 0.0815\n",
            "Epoch 34/75\n",
            "235/235 [==============================] - 4s 17ms/step - loss: 0.0819 - val_loss: 0.0813\n",
            "Epoch 35/75\n",
            "235/235 [==============================] - 5s 23ms/step - loss: 0.0817 - val_loss: 0.0813\n",
            "Epoch 36/75\n",
            "235/235 [==============================] - 4s 17ms/step - loss: 0.0815 - val_loss: 0.0811\n",
            "Epoch 37/75\n",
            "235/235 [==============================] - 4s 17ms/step - loss: 0.0812 - val_loss: 0.0807\n",
            "Epoch 38/75\n",
            "235/235 [==============================] - 5s 21ms/step - loss: 0.0809 - val_loss: 0.0804\n",
            "Epoch 39/75\n",
            "235/235 [==============================] - 4s 18ms/step - loss: 0.0808 - val_loss: 0.0802\n",
            "Epoch 40/75\n",
            "235/235 [==============================] - 4s 18ms/step - loss: 0.0806 - val_loss: 0.0798\n",
            "Epoch 41/75\n",
            "235/235 [==============================] - 5s 21ms/step - loss: 0.0803 - val_loss: 0.0801\n",
            "Epoch 42/75\n",
            "235/235 [==============================] - 4s 17ms/step - loss: 0.0801 - val_loss: 0.0796\n",
            "Epoch 43/75\n",
            "235/235 [==============================] - 5s 19ms/step - loss: 0.0799 - val_loss: 0.0792\n",
            "Epoch 44/75\n",
            "235/235 [==============================] - 5s 20ms/step - loss: 0.0797 - val_loss: 0.0802\n",
            "Epoch 45/75\n",
            "235/235 [==============================] - 4s 17ms/step - loss: 0.0796 - val_loss: 0.0790\n",
            "Epoch 46/75\n",
            "235/235 [==============================] - 5s 20ms/step - loss: 0.0794 - val_loss: 0.0788\n",
            "Epoch 47/75\n",
            "235/235 [==============================] - 4s 19ms/step - loss: 0.0792 - val_loss: 0.0790\n",
            "Epoch 48/75\n",
            "235/235 [==============================] - 4s 18ms/step - loss: 0.0791 - val_loss: 0.0787\n",
            "Epoch 49/75\n",
            "235/235 [==============================] - 5s 21ms/step - loss: 0.0790 - val_loss: 0.0784\n",
            "Epoch 50/75\n",
            "235/235 [==============================] - 4s 18ms/step - loss: 0.0788 - val_loss: 0.0785\n",
            "Epoch 51/75\n",
            "235/235 [==============================] - 4s 17ms/step - loss: 0.0787 - val_loss: 0.0783\n",
            "Epoch 52/75\n",
            "235/235 [==============================] - 5s 21ms/step - loss: 0.0785 - val_loss: 0.0782\n",
            "Epoch 53/75\n",
            "235/235 [==============================] - 4s 17ms/step - loss: 0.0784 - val_loss: 0.0780\n",
            "Epoch 54/75\n",
            "235/235 [==============================] - 4s 17ms/step - loss: 0.0783 - val_loss: 0.0781\n",
            "Epoch 55/75\n",
            "235/235 [==============================] - 5s 23ms/step - loss: 0.0782 - val_loss: 0.0779\n",
            "Epoch 56/75\n",
            "235/235 [==============================] - 4s 17ms/step - loss: 0.0781 - val_loss: 0.0777\n",
            "Epoch 57/75\n",
            "235/235 [==============================] - 4s 18ms/step - loss: 0.0780 - val_loss: 0.0775\n",
            "Epoch 58/75\n",
            "235/235 [==============================] - 5s 22ms/step - loss: 0.0779 - val_loss: 0.0778\n",
            "Epoch 59/75\n",
            "235/235 [==============================] - 4s 17ms/step - loss: 0.0778 - val_loss: 0.0776\n",
            "Epoch 60/75\n",
            "235/235 [==============================] - 4s 17ms/step - loss: 0.0777 - val_loss: 0.0774\n",
            "Epoch 61/75\n",
            "235/235 [==============================] - 5s 22ms/step - loss: 0.0776 - val_loss: 0.0772\n",
            "Epoch 62/75\n",
            "235/235 [==============================] - 4s 17ms/step - loss: 0.0775 - val_loss: 0.0773\n",
            "Epoch 63/75\n",
            "235/235 [==============================] - 4s 17ms/step - loss: 0.0774 - val_loss: 0.0771\n",
            "Epoch 64/75\n",
            "235/235 [==============================] - 5s 22ms/step - loss: 0.0773 - val_loss: 0.0769\n",
            "Epoch 65/75\n",
            "235/235 [==============================] - 4s 17ms/step - loss: 0.0772 - val_loss: 0.0768\n",
            "Epoch 66/75\n",
            "235/235 [==============================] - 4s 18ms/step - loss: 0.0771 - val_loss: 0.0769\n",
            "Epoch 67/75\n",
            "235/235 [==============================] - 5s 23ms/step - loss: 0.0771 - val_loss: 0.0766\n",
            "Epoch 68/75\n",
            "235/235 [==============================] - 4s 17ms/step - loss: 0.0770 - val_loss: 0.0767\n",
            "Epoch 69/75\n",
            "235/235 [==============================] - 7s 29ms/step - loss: 0.0769 - val_loss: 0.0766\n",
            "Epoch 70/75\n",
            "235/235 [==============================] - 5s 20ms/step - loss: 0.0768 - val_loss: 0.0764\n",
            "Epoch 71/75\n",
            "235/235 [==============================] - 4s 17ms/step - loss: 0.0768 - val_loss: 0.0764\n",
            "Epoch 72/75\n",
            "235/235 [==============================] - 5s 22ms/step - loss: 0.0767 - val_loss: 0.0765\n",
            "Epoch 73/75\n",
            "235/235 [==============================] - 4s 18ms/step - loss: 0.0766 - val_loss: 0.0761\n",
            "Epoch 74/75\n",
            "235/235 [==============================] - 4s 18ms/step - loss: 0.0766 - val_loss: 0.0764\n",
            "Epoch 75/75\n",
            "235/235 [==============================] - 6s 24ms/step - loss: 0.0765 - val_loss: 0.0762\n"
          ]
        },
        {
          "output_type": "execute_result",
          "data": {
            "text/plain": [
              "<keras.src.callbacks.History at 0x7aff81977a30>"
            ]
          },
          "metadata": {},
          "execution_count": 23
        }
      ]
    },
    {
      "cell_type": "code",
      "source": [
        "# encode and decode some digits\n",
        "# note that we take them from the *test* set\n",
        "encoded_imgs = encoder.predict(x_test)\n",
        "decoded_imgs = decoder.predict(encoded_imgs)"
      ],
      "metadata": {
        "colab": {
          "base_uri": "https://localhost:8080/"
        },
        "id": "NKK5C_rlcNDl",
        "outputId": "6566f74f-211e-4165-e478-647ea1d0a4c1"
      },
      "execution_count": 24,
      "outputs": [
        {
          "output_type": "stream",
          "name": "stdout",
          "text": [
            "313/313 [==============================] - 1s 2ms/step\n",
            "313/313 [==============================] - 1s 2ms/step\n"
          ]
        }
      ]
    },
    {
      "cell_type": "code",
      "source": [
        "# use Matplotlib (don't ask)\n",
        "import matplotlib.pyplot as plt\n",
        "\n",
        "n = 10  # how many digits we will display\n",
        "plt.figure(figsize=(20, 4))\n",
        "for i in range(n):\n",
        "    # display original\n",
        "    ax = plt.subplot(2, n, i + 1)\n",
        "    plt.imshow(x_test[i].reshape(28, 28))\n",
        "    plt.gray()\n",
        "    ax.get_xaxis().set_visible(False)\n",
        "    ax.get_yaxis().set_visible(False)\n",
        "\n",
        "    # display reconstruction\n",
        "    ax = plt.subplot(2, n, i + 1 + n)\n",
        "    plt.imshow(decoded_imgs[i].reshape(28, 28))\n",
        "    plt.gray()\n",
        "    ax.get_xaxis().set_visible(False)\n",
        "    ax.get_yaxis().set_visible(False)\n",
        "plt.show()"
      ],
      "metadata": {
        "colab": {
          "base_uri": "https://localhost:8080/",
          "height": 317
        },
        "id": "ZQA_n46BcI47",
        "outputId": "739da7e8-fbdc-4e2b-fadf-bd008dc1de93"
      },
      "execution_count": 25,
      "outputs": [
        {
          "output_type": "display_data",
          "data": {
            "text/plain": [
              "<Figure size 2000x400 with 20 Axes>"
            ],
            "image/png": "[encoded data removed]"
          },
          "metadata": {}
        }
      ]
    }
  ]
}